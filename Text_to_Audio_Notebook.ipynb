{
 "cells": [
  {
   "cell_type": "markdown",
   "id": "25826c40",
   "metadata": {},
   "source": [
    "# 🗣️ Text-to-Audio: AI Generated Speech from Text\n",
    "This project implements a complete **Text-to-Speech (TTS)** pipeline using FastSpeech2 and HiFi-GAN models. It converts input text into high-quality, natural-sounding speech, built entirely from scratch without third-party TTS tools.\n",
    "\n",
    "### 🎯 Key Objectives:\n",
    "- Convert raw text into mel spectrograms\n",
    "- Use HiFi-GAN vocoder to synthesize realistic audio\n",
    "- Visualize generated mel spectrogram and training loss\n",
    "- Prepare and validate datasets like LJ Speech for training\n"
   ]
  },
  {
   "cell_type": "markdown",
   "id": "02a52bd7",
   "metadata": {},
   "source": [
    "## 📂 Dataset and Preprocessing\n",
    "We used the [LJ Speech](https://keithito.com/LJ-Speech-Dataset/) dataset. The pipeline includes:\n",
    "- Extracting and validating mel spectrograms from WAV files\n",
    "- Directory setup: `wavs`, `mel_spectrograms`, validation scripts\n",
    "- Shaping and normalizing spectrograms for training\n"
   ]
  },
  {
   "cell_type": "markdown",
   "id": "417cdbcc",
   "metadata": {},
   "source": [
    "## 📈 Mel Spectrogram Visualization\n",
    "This section visualizes a sample generated mel spectrogram as output by the trained HiFi-GAN model.\n"
   ]
  },
  {
   "cell_type": "code",
   "execution_count": null,
   "id": "294ffcfe",
   "metadata": {},
   "outputs": [],
   "source": [
    "from IPython.display import Image\n",
    "Image(filename='generated_mel.png')"
   ]
  },
  {
   "cell_type": "markdown",
   "id": "3f6c2529",
   "metadata": {},
   "source": [
    "## 📉 Training Loss Curve\n",
    "Visualize how the MSE Loss evolves over training epochs to evaluate convergence and model performance.\n"
   ]
  },
  {
   "cell_type": "code",
   "execution_count": null,
   "id": "ed371ce0",
   "metadata": {},
   "outputs": [],
   "source": [
    "from IPython.display import Image\n",
    "Image(filename='training_loss.png')"
   ]
  },
  {
   "cell_type": "markdown",
   "id": "670e7995",
   "metadata": {},
   "source": [
    "## 🚀 Inference Pipeline\n",
    "Use HiFi-GAN for waveform generation from mel spectrograms. Inference script processes test samples and plays generated audio.\n"
   ]
  },
  {
   "cell_type": "code",
   "execution_count": null,
   "id": "0dac3952",
   "metadata": {},
   "outputs": [],
   "source": [
    "# Run inference from script\n",
    "!python inference.py"
   ]
  },
  {
   "cell_type": "markdown",
   "id": "0f125d23",
   "metadata": {},
   "source": [
    "## ✅ Conclusion\n",
    "This notebook demonstrates a full TTS system, capable of producing intelligible, natural-sounding audio. With additional fine-tuning and FastSpeech2 integration, the system can achieve near real-time text-to-audio conversion.\n"
   ]
  }
 ],
 "metadata": {},
 "nbformat": 4,
 "nbformat_minor": 5
}
